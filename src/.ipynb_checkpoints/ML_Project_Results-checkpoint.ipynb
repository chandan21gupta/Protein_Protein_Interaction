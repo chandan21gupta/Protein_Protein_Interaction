{
 "cells": [
  {
   "cell_type": "code",
   "execution_count": null,
   "metadata": {
    "id": "rFhzLrsK61TH"
   },
   "outputs": [],
   "source": [
    "from imblearn.over_sampling import SMOTE\n",
    "from sklearn.preprocessing import MinMaxScaler\n",
    "from sklearn.preprocessing import StandardScaler\n",
    "from sklearn.model_selection import train_test_split\n",
    "import seaborn as sns\n",
    "%matplotlib inline\n",
    "import matplotlib.pyplot as plt\n",
    "\n",
    "from mpl_toolkits.mplot3d import Axes3D\n",
    "from pandas_profiling import ProfileReport\n",
    "from sklearn.feature_selection import f_classif, SelectKBest\n",
    "from sklearn.preprocessing import StandardScaler\n",
    "from sklearn.decomposition import PCA\n",
    "from sklearn.metrics import f1_score, roc_auc_score, confusion_matrix\n",
    "from sklearn.linear_model import LogisticRegression\n",
    "from sklearn.metrics import precision_recall_fscore_support\n",
    "from sklearn.model_selection import GridSearchCV\n",
    "from sklearn.ensemble import RandomForestClassifier\n",
    "from sklearn import metrics\n",
    "from sklearn.model_selection import StratifiedKFold\n",
    "import pandas as pd\n",
    "import numpy as np\n",
    "import pickle"
   ]
  },
  {
   "cell_type": "code",
   "execution_count": null,
   "metadata": {
    "id": "bROj76G07ANE"
   },
   "outputs": [],
   "source": [
    "with open(\"/content/drive/MyDrive/ML_Project/Train_Test_Data/X_train_fs\", \"br\") as fh:\n",
    "    X_train = pickle.load(fh)\n",
    "\n",
    "with open(\"/content/drive/MyDrive/ML_Project/Train_Test_Data/y_train\", \"br\") as fh:\n",
    "    y_train = pickle.load(fh)\n",
    "\n",
    "with open(\"/content/drive/MyDrive/ML_Project/Train_Test_Data/X_test_fs\", \"br\") as fh:\n",
    "    X_test = pickle.load(fh)\n",
    "\n",
    "with open(\"/content/drive/MyDrive/ML_Project/Train_Test_Data/y_test\", \"br\") as fh:\n",
    "    y_test = pickle.load(fh)"
   ]
  },
  {
   "cell_type": "code",
   "execution_count": null,
   "metadata": {
    "colab": {
     "base_uri": "https://localhost:8080/"
    },
    "id": "vSfuzsIL80Vb",
    "outputId": "bf36b856-0c18-4466-aa31-105964aa639b"
   },
   "outputs": [
    {
     "name": "stderr",
     "output_type": "stream",
     "text": [
      "/usr/local/lib/python3.6/dist-packages/sklearn/base.py:318: UserWarning: Trying to unpickle estimator SVC from version 0.23.2 when using version 0.22.2.post1. This might lead to breaking code or invalid results. Use at your own risk.\n",
      "  UserWarning)\n"
     ]
    },
    {
     "data": {
      "text/plain": [
       "SVC(C=1, break_ties=False, cache_size=200, class_weight=None, coef0=0.0,\n",
       "    decision_function_shape='ovr', degree=3, gamma=1, kernel='rbf', max_iter=-1,\n",
       "    probability=True, random_state=None, shrinking=True, tol=0.001,\n",
       "    verbose=False)"
      ]
     },
     "execution_count": 57,
     "metadata": {
      "tags": []
     },
     "output_type": "execute_result"
    }
   ],
   "source": [
    "#loading models\n",
    "with open(\"/content/drive/MyDrive/ML_Project/Models/finalized_svm.sav\", \"br\") as fh:\n",
    "    svm = pickle.load(fh)\n",
    "\n",
    "svm"
   ]
  },
  {
   "cell_type": "code",
   "execution_count": null,
   "metadata": {
    "colab": {
     "base_uri": "https://localhost:8080/"
    },
    "id": "1X4IMrQzJniK",
    "outputId": "adcdbf2a-9be1-4ee6-98dc-527cdf00f506"
   },
   "outputs": [
    {
     "name": "stdout",
     "output_type": "stream",
     "text": [
      "start\n",
      "Fitting 5 folds for each of 1 candidates, totalling 5 fits\n"
     ]
    },
    {
     "name": "stderr",
     "output_type": "stream",
     "text": [
      "[Parallel(n_jobs=1)]: Using backend SequentialBackend with 1 concurrent workers.\n",
      "[Parallel(n_jobs=1)]: Done   5 out of   5 | elapsed:    1.3s finished\n"
     ]
    },
    {
     "name": "stdout",
     "output_type": "stream",
     "text": [
      "\n",
      "Training Accuracy: \n",
      "0.9894875164257556\n",
      "\n",
      "Test Accuracy\n",
      "0.8593272171253823\n",
      "\n",
      "Precision, Recall, F1: \n",
      "(0.8679245283018868, 0.8466257668711656, 0.8571428571428571, None)\n"
     ]
    }
   ],
   "source": [
    "print('start')\n",
    "from sklearn.svm import SVC\n",
    "param_grid = {'C': [1],  \n",
    "              'gamma': [1], \n",
    "              'kernel': ['rbf'],\n",
    "              'probability':[True],\n",
    "              'random_state':[0]\n",
    "           }\n",
    "\n",
    "grid = GridSearchCV(SVC(), param_grid, verbose = 1, refit=True) \n",
    "grid.fit(X_train, y_train)\n",
    "\n",
    "\n",
    "print('\\nTraining Accuracy: ')\n",
    "print(grid.score(X_train,y_train)) #train score\n",
    "\n",
    "print('\\nTest Accuracy')\n",
    "print(grid.score(X_test,y_test)) #test_score\n",
    "\n",
    "print('\\nPrecision, Recall, F1: ')\n",
    "print(precision_recall_fscore_support(y_test, grid.predict(X_test),average='binary'))"
   ]
  },
  {
   "cell_type": "code",
   "execution_count": null,
   "metadata": {
    "colab": {
     "base_uri": "https://localhost:8080/",
     "height": 483
    },
    "id": "7kcUqCtC-gTp",
    "outputId": "6c599271-c7fe-4ce9-fe8a-d611acc23439"
   },
   "outputs": [
    {
     "data": {
      "image/png": "[encoded data removed]",
      "text/plain": [
       "<Figure size 576x576 with 1 Axes>"
      ]
     },
     "metadata": {
      "needs_background": "light",
      "tags": []
     },
     "output_type": "display_data"
    }
   ],
   "source": [
    "y_pred_lr = grid.predict(X_test)\n",
    "from sklearn.metrics import confusion_matrix,classification_report,roc_curve,roc_auc_score\n",
    "\n",
    "cm = confusion_matrix(y_test, y_pred_lr)\n",
    "\n",
    "fig, ax = plt.subplots(figsize=(8, 8))\n",
    "ax.imshow(cm, cmap='Blues')\n",
    "ax.grid(False)\n",
    "ax.xaxis.set(ticks=(0, 1), ticklabels=('Predicted 0s', 'Predicted 1s'))\n",
    "ax.yaxis.set(ticks=(0, 1), ticklabels=('Actual 0s', 'Actual 1s'))\n",
    "ax.set_ylim(1.5, -0.5)\n",
    "for i in range(2):\n",
    "    for j in range(2):\n",
    "        ax.text(j, i, cm[i, j], ha='center', va='center',fontsize = 50, color='red')\n",
    "plt.show()\n",
    "\n",
    "\n"
   ]
  },
  {
   "cell_type": "code",
   "execution_count": null,
   "metadata": {
    "colab": {
     "base_uri": "https://localhost:8080/",
     "height": 265
    },
    "id": "lEFaeTizFG-w",
    "outputId": "391bef40-50da-4d07-ac86-999f41efd8ab"
   },
   "outputs": [
    {
     "data": {
      "image/png": "[encoded data removed]",
      "text/plain": [
       "<Figure size 432x288 with 1 Axes>"
      ]
     },
     "metadata": {
      "needs_background": "light",
      "tags": []
     },
     "output_type": "display_data"
    }
   ],
   "source": [
    "y_pred_proba = grid.predict_proba(X_test)[::,1]\n",
    "fpr, tpr, _ = roc_curve(y_test,  y_pred_proba)\n",
    "auc = metrics.roc_auc_score(y_test, y_pred_proba)\n",
    "plt.plot(fpr,tpr,label=\"1, auc=\"+str(auc))\n",
    "plt.legend(loc=4)\n",
    "plt.show()"
   ]
  }
 ],
 "metadata": {
  "colab": {
   "collapsed_sections": [],
   "name": "ML_Project_Results.ipynb",
   "provenance": []
  },
  "kernelspec": {
   "display_name": "Python 3",
   "language": "python",
   "name": "python3"
  },
  "language_info": {
   "codemirror_mode": {
    "name": "ipython",
    "version": 3
   },
   "file_extension": ".py",
   "mimetype": "text/x-python",
   "name": "python",
   "nbconvert_exporter": "python",
   "pygments_lexer": "ipython3",
   "version": "3.6.8"
  }
 },
 "nbformat": 4,
 "nbformat_minor": 1
}
