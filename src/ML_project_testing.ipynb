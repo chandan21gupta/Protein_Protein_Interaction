{
  "nbformat": 4,
  "nbformat_minor": 0,
  "metadata": {
    "kernelspec": {
      "display_name": "Python 3",
      "language": "python",
      "name": "python3"
    },
    "language_info": {
      "codemirror_mode": {
        "name": "ipython",
        "version": 3
      },
      "file_extension": ".py",
      "mimetype": "text/x-python",
      "name": "python",
      "nbconvert_exporter": "python",
      "pygments_lexer": "ipython3",
      "version": "3.8.5"
    },
    "colab": {
      "name": "ML_project_testing.ipynb",
      "provenance": [],
      "collapsed_sections": []
    }
  },
  "cells": [
    {
      "cell_type": "code",
      "metadata": {
        "id": "Fo6Ij8Q6LHD_"
      },
      "source": [
        "from imblearn.over_sampling import SMOTE\r\n",
        "from sklearn.preprocessing import MinMaxScaler\r\n",
        "from sklearn.preprocessing import StandardScaler\r\n",
        "from sklearn.model_selection import train_test_split\r\n",
        "import seaborn as sns\r\n",
        "import matplotlib.pyplot as plt\r\n",
        "import matplotlib.pyplot as plt\r\n",
        "from mpl_toolkits.mplot3d import Axes3D\r\n",
        "from pandas_profiling import ProfileReport\r\n",
        "from sklearn.feature_selection import f_classif, SelectKBest\r\n",
        "from sklearn.preprocessing import StandardScaler\r\n",
        "from sklearn.decomposition import PCA\r\n",
        "from sklearn.metrics import f1_score, roc_auc_score, confusion_matrix\r\n",
        "from sklearn.linear_model import LogisticRegression\r\n",
        "from sklearn.metrics import precision_recall_fscore_support\r\n",
        "from sklearn.model_selection import GridSearchCV\r\n",
        "from sklearn.ensemble import RandomForestClassifier\r\n",
        "from sklearn import metrics\r\n",
        "from sklearn.model_selection import StratifiedKFold\r\n",
        "import pandas as pd\r\n",
        "import numpy as np\r\n",
        "import pickle\r\n"
      ],
      "execution_count": 11,
      "outputs": []
    },
    {
      "cell_type": "code",
      "metadata": {
        "id": "7Aire_r4Imz_"
      },
      "source": [
        "'''\n",
        "This function generates the training and testing dataset to be used for training and testing purposes with various models respectively. \n",
        "'''\n",
        "\n",
        "\n",
        "def generate_train_test_data(split = 0.2, random_state = 42, scaling = 'standard', sampling = False, show_plots = True):\n",
        "\n",
        "\t'''\n",
        "\tThis method generates the training and test data. \n",
        "\tParameters :- split : Float, (0,1) - fraction of size of testing data to be used to test the model.\n",
        "\t\t\t\t  random_state : Integer - state of the randomization of the sampling data.\n",
        "\t\t\t\t  scaling : String, 'normal_negative', 'normal_positive', 'standard' - Type of scaling to be used, scaling data by \n",
        "\t\t\t\t  \t\t\t\t\t\t\t\t\t\t\t\t\t\t\t\t\t\t[-1,1], [0,1], Standard Normal respectively\n",
        "\t\t\t\t  sampling : Boolean - To generate synthetic data using training data with SMOTE\n",
        "\t\t\t\t  show_plots : Boolean - To show target variable distribution after each sampling method.\t\t\t\t\t\t\t\t\t\t\t\n",
        "\t'''\n",
        "\n",
        "\tdata = pd.read_csv('/content/drive/MyDrive/ML_Project/Dataset/raw.csv', index_col = [0])\n",
        "\n",
        "\tX = data[data.columns[0:100]]\n",
        "\n",
        "\ty = data['y']\n",
        "\n",
        "\tsns.countplot(y).set_title('Target Distribution in whole dataset')\n",
        "\tplt.show()\n",
        "\n",
        "\tX_train, X_test, y_train, y_test = train_test_split(X, y, random_state = random_state, stratify = y, test_size = split)\n",
        "\n",
        "\n",
        "\tif scaling == 'normal_negative':\n",
        "\t\tscale = MinMaxScaler(feature_range = (-1,1))\n",
        "\n",
        "\telif scaling == 'normal_positive':\n",
        "\t\tscale = MinMaxScaler()\n",
        "\n",
        "\telif scaling == 'standard':\n",
        "\t\tscale = StandardScaler()\n",
        "\n",
        "\tif sampling == False:\n",
        "\n",
        "\t\tX_train = scale.fit_transform(X_train)\n",
        "\t\tX_test = scale.transform(X_test)\n",
        "\n",
        "\t\tif show_plots == True:\n",
        "\t\t\tsns.countplot(x = y_train).set_title('Target Distribution in Training Dataset')\n",
        "\t\t\tplt.show()\n",
        "\t\t\tsns.countplot(x = y_test).set_title('Target Distribution in Test dataset')\n",
        "\t\t\tplt.show()\n",
        "\n",
        "\t\treturn X_train, X_test, y_train, y_test\n",
        "\n",
        "\telse:\n",
        "\n",
        "\t\tif show_plots == True:\n",
        "\t\t\tsns.countplot(x = y_train).set_title('Target Distribution in Training Dataset without SMOTE')\n",
        "\t\t\tplt.show()\n",
        "\n",
        "\t\toversample = SMOTE()\n",
        "\t\tX_train, y_train = oversample.fit_resample(X_train, y_train)\n",
        "\n",
        "\t\tX_train = scale.fit_transform(X_train)\n",
        "\t\tX_test = scale.transform(X_test)\n",
        "\n",
        "\t\tif show_plots == True:\n",
        "\t\t\tsns.countplot(x = y_train).set_title('Target Distribution in Training Dataset with SMOTE')\n",
        "\t\t\tplt.show()\n",
        "\t\t\tsns.countplot(x = y_test).set_title('Target Distribution in Test dataset')\n",
        "\t\t\tplt.show()\n",
        "\t\treturn X_train, X_test, y_train, y_test\n",
        "\n",
        "\n",
        "\n"
      ],
      "execution_count": null,
      "outputs": []
    },
    {
      "cell_type": "code",
      "metadata": {
        "colab": {
          "base_uri": "https://localhost:8080/",
          "height": 382
        },
        "id": "27JJ_EGWIm0G",
        "outputId": "c26238bc-46f6-4a59-d655-cef3cd143838"
      },
      "source": [
        "X_train, X_test, y_train, y_test = generate_train_test_data(sampling = True)"
      ],
      "execution_count": 20,
      "outputs": [
        {
          "output_type": "stream",
          "text": [
            "/usr/local/lib/python3.6/dist-packages/seaborn/_decorators.py:43: FutureWarning: Pass the following variable as a keyword arg: x. From version 0.12, the only valid positional argument will be `data`, and passing other arguments without an explicit keyword will result in an error or misinterpretation.\n",
            "  FutureWarning\n",
            "/usr/local/lib/python3.6/dist-packages/sklearn/utils/deprecation.py:87: FutureWarning: Function safe_indexing is deprecated; safe_indexing is deprecated in version 0.22 and will be removed in version 0.24.\n",
            "  warnings.warn(msg, category=FutureWarning)\n"
          ],
          "name": "stderr"
        },
        {
          "output_type": "display_data",
          "data": {
            "image/png": "[encoded data removed]",
            "text/plain": [
              "<Figure size 432x288 with 1 Axes>"
            ]
          },
          "metadata": {
            "tags": [],
            "needs_background": "light"
          }
        }
      ]
    },
    {
      "cell_type": "code",
      "metadata": {
        "id": "ob1ZQq8hPrpa"
      },
      "source": [
        "pickle.dump(X_train,open('X_train+val','wb'))\r\n",
        "pickle.dump(y_train,open('y_train+val','wb'))"
      ],
      "execution_count": 21,
      "outputs": []
    },
    {
      "cell_type": "code",
      "metadata": {
        "id": "AsNMOHU3Im0K"
      },
      "source": [
        "X_train, X_val, y_train, y_val = train_test_split(X_train, y_train, stratify=y_train, test_size=0.2, random_state=0)"
      ],
      "execution_count": 22,
      "outputs": []
    },
    {
      "cell_type": "code",
      "metadata": {
        "id": "S3MtNY7lMZvV"
      },
      "source": [
        "pickle.dump(X_train,open('X_train','wb'))\r\n",
        "pickle.dump(y_train,open('y_train','wb'))\r\n",
        "pickle.dump(X_val,open('X_val','wb'))\r\n",
        "pickle.dump(y_val,open('y_val','wb'))\r\n",
        "pickle.dump(X_test,open('X_test','wb'))\r\n",
        "pickle.dump(y_test,open('y_test','wb'))"
      ],
      "execution_count": 23,
      "outputs": []
    },
    {
      "cell_type": "code",
      "metadata": {
        "id": "cj8MZpMxQJpn"
      },
      "source": [
        "with open(\"X_train\", \"br\") as fh:\r\n",
        "    X_train = pickle.load(fh)\r\n",
        "\r\n",
        "with open(\"y_train\", \"br\") as fh:\r\n",
        "    y_train = pickle.load(fh)\r\n",
        "\r\n",
        "with open(\"X_val\", \"br\") as fh:\r\n",
        "    X_val = pickle.load(fh)\r\n",
        "\r\n",
        "with open(\"y_val\", \"br\") as fh:\r\n",
        "    y_val = pickle.load(fh)\r\n",
        "\r\n",
        "with open(\"X_test\", \"br\") as fh:\r\n",
        "    X_test = pickle.load(fh)\r\n",
        "\r\n",
        "with open(\"y_test\", \"br\") as fh:\r\n",
        "    y_test = pickle.load(fh)\r\n",
        "\r\n"
      ],
      "execution_count": 44,
      "outputs": []
    },
    {
      "cell_type": "code",
      "metadata": {
        "id": "2URXwfwIUL9D"
      },
      "source": [
        "sel = SelectKBest(f_classif, k=95)\r\n",
        "X_train = sel.fit_transform(X_train, y_train)\r\n",
        "X_val = sel.transform(X_val)\r\n",
        "\r\n",
        "pca = PCA(n_components=70)\r\n",
        "X_train = pca.fit_transform(X_train)\r\n",
        "X_val = pca.transform(X_val)"
      ],
      "execution_count": 45,
      "outputs": []
    },
    {
      "cell_type": "markdown",
      "metadata": {
        "id": "cbIOA3EdIm0N"
      },
      "source": [
        "# Model Training\n"
      ]
    },
    {
      "cell_type": "code",
      "metadata": {
        "colab": {
          "base_uri": "https://localhost:8080/"
        },
        "id": "Xsqps3xvIm0P",
        "outputId": "a6713ec2-518e-4918-dfcf-0fdb250044ad"
      },
      "source": [
        "#Logistic Regression\n",
        "param_grid = {'penalty': ['l2'],\n",
        "           'C': [0.0005,0.001, 0.002, 0.003,0.004],\n",
        "           'max_iter': [1000],'random_state':[0]\n",
        "            \n",
        "           }\n",
        "scoring = ['roc_auc']\n",
        "\n",
        "grid = GridSearchCV(LogisticRegression(), param_grid, verbose  = 1,refit = True)  \n",
        "grid.fit(X_train, y_train)\n",
        "\n",
        "print('\\nBest Params: ')\n",
        "print(grid.cv_results_)\n",
        "\n",
        "print('\\nTraining Accuracy: ')\n",
        "print(grid.score(X_train,y_train)) #train score\n",
        "\n",
        "print('\\nTest Accuracy')\n",
        "print(grid.score(X_val,y_val)) #test_score\n",
        "\n",
        "print('\\nPrecision, Recall, F1: ')\n",
        "print(precision_recall_fscore_support(y_val, grid.predict(X_val),average='macro'))\n",
        "\n",
        "\n"
      ],
      "execution_count": 65,
      "outputs": [
        {
          "output_type": "stream",
          "text": [
            "Fitting 5 folds for each of 5 candidates, totalling 25 fits\n"
          ],
          "name": "stdout"
        },
        {
          "output_type": "stream",
          "text": [
            "[Parallel(n_jobs=1)]: Using backend SequentialBackend with 1 concurrent workers.\n"
          ],
          "name": "stderr"
        },
        {
          "output_type": "stream",
          "text": [
            "\n",
            "Best Params: \n",
            "{'mean_fit_time': array([0.00848002, 0.00944748, 0.0106977 , 0.01601982, 0.01106143]), 'std_fit_time': array([0.00035759, 0.00084468, 0.00023186, 0.00642132, 0.00055505]), 'mean_score_time': array([0.00052099, 0.00053749, 0.00057168, 0.00079117, 0.00053368]), 'std_score_time': array([2.20664864e-05, 1.26308754e-05, 2.73549970e-05, 4.54177859e-04,\n",
            "       1.26146637e-05]), 'param_C': masked_array(data=[0.0005, 0.001, 0.002, 0.003, 0.004],\n",
            "             mask=[False, False, False, False, False],\n",
            "       fill_value='?',\n",
            "            dtype=object), 'param_max_iter': masked_array(data=[1000, 1000, 1000, 1000, 1000],\n",
            "             mask=[False, False, False, False, False],\n",
            "       fill_value='?',\n",
            "            dtype=object), 'param_penalty': masked_array(data=['l2', 'l2', 'l2', 'l2', 'l2'],\n",
            "             mask=[False, False, False, False, False],\n",
            "       fill_value='?',\n",
            "            dtype=object), 'param_random_state': masked_array(data=[0, 0, 0, 0, 0],\n",
            "             mask=[False, False, False, False, False],\n",
            "       fill_value='?',\n",
            "            dtype=object), 'params': [{'C': 0.0005, 'max_iter': 1000, 'penalty': 'l2', 'random_state': 0}, {'C': 0.001, 'max_iter': 1000, 'penalty': 'l2', 'random_state': 0}, {'C': 0.002, 'max_iter': 1000, 'penalty': 'l2', 'random_state': 0}, {'C': 0.003, 'max_iter': 1000, 'penalty': 'l2', 'random_state': 0}, {'C': 0.004, 'max_iter': 1000, 'penalty': 'l2', 'random_state': 0}], 'split0_test_score': array([0.6       , 0.6       , 0.6       , 0.62142857, 0.6       ]), 'split1_test_score': array([0.61870504, 0.62589928, 0.63309353, 0.64748201, 0.64748201]), 'split2_test_score': array([0.64028777, 0.64028777, 0.65467626, 0.63309353, 0.64028777]), 'split3_test_score': array([0.64748201, 0.64748201, 0.65467626, 0.6618705 , 0.6618705 ]), 'split4_test_score': array([0.69064748, 0.69064748, 0.69064748, 0.69064748, 0.69064748]), 'mean_test_score': array([0.63942446, 0.64086331, 0.64661871, 0.65090442, 0.64805755]), 'std_test_score': array([0.03057139, 0.02971981, 0.02974766, 0.02407294, 0.02958016]), 'rank_test_score': array([5, 4, 3, 1, 2], dtype=int32)}\n",
            "\n",
            "Training Accuracy: \n",
            "0.6522988505747126\n",
            "\n",
            "Test Accuracy\n",
            "0.6379310344827587\n",
            "\n",
            "Precision, Recall, F1: \n",
            "(0.6773097826086957, 0.6379310344827587, 0.6166462668298653, None)\n"
          ],
          "name": "stdout"
        },
        {
          "output_type": "stream",
          "text": [
            "[Parallel(n_jobs=1)]: Done  25 out of  25 | elapsed:    0.3s finished\n"
          ],
          "name": "stderr"
        }
      ]
    },
    {
      "cell_type": "code",
      "metadata": {
        "colab": {
          "base_uri": "https://localhost:8080/"
        },
        "id": "HeU7LfKPp2qF",
        "outputId": "e731905b-ce80-4659-b55e-bdbcc5b6471b"
      },
      "source": [
        "grid.best_params_"
      ],
      "execution_count": 66,
      "outputs": [
        {
          "output_type": "execute_result",
          "data": {
            "text/plain": [
              "{'C': 0.003, 'max_iter': 1000, 'penalty': 'l2', 'random_state': 0}"
            ]
          },
          "metadata": {
            "tags": []
          },
          "execution_count": 66
        }
      ]
    },
    {
      "cell_type": "code",
      "metadata": {
        "id": "j--OYKCIq9It"
      },
      "source": [
        "lr = LogisticRegression()"
      ],
      "execution_count": null,
      "outputs": []
    },
    {
      "cell_type": "code",
      "metadata": {
        "scrolled": false,
        "colab": {
          "base_uri": "https://localhost:8080/",
          "height": 633
        },
        "id": "tQGd0dlbIm0P",
        "outputId": "d64374d5-e02e-48a6-ffc1-577c6484c7ca"
      },
      "source": [
        "y_pred_lr = grid.predict(X_val)\n",
        "from sklearn.metrics import confusion_matrix,classification_report,roc_curve,roc_auc_score\n",
        "\n",
        "cm = confusion_matrix(y_val, y_pred_lr)\n",
        "\n",
        "fig, ax = plt.subplots(figsize=(8, 8))\n",
        "ax.imshow(cm, cmap='Blues')\n",
        "ax.grid(False)\n",
        "ax.xaxis.set(ticks=(0, 1), ticklabels=('Predicted 0s', 'Predicted 1s'))\n",
        "ax.yaxis.set(ticks=(0, 1), ticklabels=('Actual 0s', 'Actual 1s'))\n",
        "ax.set_ylim(1.5, -0.5)\n",
        "for i in range(2):\n",
        "    for j in range(2):\n",
        "        ax.text(j, i, cm[i, j], ha='center', va='center',fontsize = 50, color='red')\n",
        "plt.show()\n",
        "\n",
        "print(classification_report(y_val, y_pred_lr))\n",
        "\n"
      ],
      "execution_count": 69,
      "outputs": [
        {
          "output_type": "stream",
          "text": [
            "              precision    recall  f1-score   support\n",
            "\n",
            "           0       0.76      0.40      0.53        87\n",
            "           1       0.59      0.87      0.71        87\n",
            "\n",
            "    accuracy                           0.64       174\n",
            "   macro avg       0.68      0.64      0.62       174\n",
            "weighted avg       0.68      0.64      0.62       174\n",
            "\n"
          ],
          "name": "stdout"
        },
        {
          "output_type": "display_data",
          "data": {
            "image/png": "[encoded data removed]",
            "text/plain": [
              "<Figure size 576x576 with 1 Axes>"
            ]
          },
          "metadata": {
            "tags": [],
            "needs_background": "light"
          }
        }
      ]
    },
    {
      "cell_type": "code",
      "metadata": {
        "colab": {
          "base_uri": "https://localhost:8080/",
          "height": 265
        },
        "id": "lx2fSeOAr59C",
        "outputId": "f67a35f1-25c0-43d5-b238-45d1a0c879b9"
      },
      "source": [
        "y_pred_proba = grid.predict_proba(X_val)[::,1]\r\n",
        "fpr, tpr, _ = roc_curve(y_val,  y_pred_proba)\r\n",
        "auc = metrics.roc_auc_score(y_val, y_pred_proba)\r\n",
        "plt.plot(fpr,tpr,label=\"1, auc=\"+str(auc))\r\n",
        "plt.legend(loc=4)\r\n",
        "plt.show()"
      ],
      "execution_count": 68,
      "outputs": [
        {
          "output_type": "display_data",
          "data": {
            "image/png": "[encoded data removed]",
            "text/plain": [
              "<Figure size 432x288 with 1 Axes>"
            ]
          },
          "metadata": {
            "tags": [],
            "needs_background": "light"
          }
        }
      ]
    },
    {
      "cell_type": "code",
      "metadata": {
        "colab": {
          "base_uri": "https://localhost:8080/"
        },
        "id": "DPZfn8szIm0R",
        "outputId": "d8d219fe-4012-455d-8a52-fccf23643473"
      },
      "source": [
        "#Random Forest Tree\n",
        "from sklearn.ensemble import RandomForestClassifier\n",
        "\n",
        "print('start')\n",
        "param_grid = {'n_estimators': [300],\n",
        "           'criterion': ['gini', 'entropy'],\n",
        "              'max_depth': range(5, 100, 5),\n",
        "              'min_samples_split': range(2, 10, 1),\n",
        "              'max_features': ['auto', 'sqrt', 'log2'],\n",
        "              'random_state':[0]\n",
        "            \n",
        "           }\n",
        "\n",
        "grid = GridSearchCV(RandomForestClassifier(), param_grid, verbose = 1, refit=True) \n",
        "grid.fit(X_train, y_train)\n",
        "\n",
        "print('\\nBest Params: ')\n",
        "print(grid.cv_results_)\n",
        "\n",
        "print('\\nTraining Accuracy: ')\n",
        "print(grid.score(X_train,y_train)) #train score\n",
        "\n",
        "print('\\nTest Accuracy')\n",
        "print(grid.score(X_val,y_val)) #test_score\n",
        "\n",
        "print('\\nPrecision, Recall, F1: ')\n",
        "print(precision_recall_fscore_support(y_val, grid.predict(X_val),average='macro'))\n",
        "# dt = RandomForestClassifier(criterion ='entropy', max_depth = 10, max_features = 3, min_samples_split = 5, n_estimators= 10, bootstrap = True,  random_state = 0)\n",
        "# dt.fit(X_train,y_train)"
      ],
      "execution_count": null,
      "outputs": [
        {
          "output_type": "stream",
          "text": [
            "start\n",
            "Fitting 5 folds for each of 912 candidates, totalling 4560 fits\n"
          ],
          "name": "stdout"
        },
        {
          "output_type": "stream",
          "text": [
            "[Parallel(n_jobs=1)]: Using backend SequentialBackend with 1 concurrent workers.\n"
          ],
          "name": "stderr"
        }
      ]
    },
    {
      "cell_type": "code",
      "metadata": {
        "id": "K09URZ_tvroE"
      },
      "source": [
        "#Decision Tree\r\n",
        "from sklearn.tree import DecisionTreeClassifier\r\n",
        "param_grid = {'criterion' : ['gini', 'entropy'],\r\n",
        "           'splitter': ['best','random'],\r\n",
        "              'max_depth': range(5, 100, 5),\r\n",
        "              'min_samples_split': range(5, 20, 2),\r\n",
        "           'random_state':[0]\r\n",
        "            \r\n",
        "           }\r\n",
        "\r\n",
        "grid = GridSearchCV(DecisionTreeClassifier(), param_grid, verbose = 1, refit=True) \r\n",
        "grid.fit(X_train, y_train)\r\n",
        "\r\n",
        "print('\\nBest Params: ')\r\n",
        "print(grid.cv_results_)\r\n",
        "\r\n",
        "print('\\nTraining Accuracy: ')\r\n",
        "print(grid.score(X_train,y_train)) #train score\r\n",
        "\r\n",
        "print('\\nTest Accuracy')\r\n",
        "print(grid.score(X_val,y_val)) #test_score\r\n",
        "\r\n",
        "print('\\nPrecision, Recall, F1: ')\r\n",
        "print(precision_recall_fscore_support(y_val, grid.predict(X_val),average='macro'))"
      ],
      "execution_count": null,
      "outputs": []
    },
    {
      "cell_type": "code",
      "metadata": {
        "id": "L-2EO_kmwAiF"
      },
      "source": [
        "#SVM\r\n",
        "print('start')\r\n",
        "from sklearn.svm import SVC\r\n",
        "param_grid = {'C': [0.001,0.01,0.1,1,10,100,1000],  \r\n",
        "              'gamma': [10, 1, 0.1, 0.01, 0.001], \r\n",
        "              'kernel': ['rbf', 'linear', 'poly', 'sigmoid']\r\n",
        "           }\r\n",
        "\r\n",
        "grid = GridSearchCV(DecisionTreeClassifier(), param_grid, verbose = 1, refit=True) \r\n",
        "grid.fit(X_train, y_train)\r\n",
        "\r\n",
        "print('\\nBest Params: ')\r\n",
        "print(grid.cv_results_)\r\n",
        "\r\n",
        "print('\\nTraining Accuracy: ')\r\n",
        "print(grid.score(X_train,y_train)) #train score\r\n",
        "\r\n",
        "print('\\nTest Accuracy')\r\n",
        "print(grid.score(X_val,y_val)) #test_score\r\n",
        "\r\n",
        "print('\\nPrecision, Recall, F1: ')\r\n",
        "print(precision_recall_fscore_support(y_val, grid.predict(X_val),average='macro'))"
      ],
      "execution_count": null,
      "outputs": []
    },
    {
      "cell_type": "code",
      "metadata": {
        "id": "8cjM_OPiwaJf"
      },
      "source": [
        "#ADABOOST\r\n",
        "print('start')\r\n",
        "from sklearn.svm import SVC\r\n",
        "param_grid = {'C': [0.001,0.01,0.1,1,10,100,1000],  \r\n",
        "              'gamma': [10, 1, 0.1, 0.01, 0.001], \r\n",
        "              'kernel': ['rbf', 'linear', 'poly', 'sigmoid']\r\n",
        "           }\r\n",
        "\r\n",
        "grid = GridSearchCV(DecisionTreeClassifier(), param_grid, verbose = 1, refit=True) \r\n",
        "grid.fit(X_train, y_train)\r\n",
        "\r\n",
        "print('\\nBest Params: ')\r\n",
        "print(grid.cv_results_)\r\n",
        "\r\n",
        "print('\\nTraining Accuracy: ')\r\n",
        "print(grid.score(X_train,y_train)) #train score\r\n",
        "\r\n",
        "print('\\nTest Accuracy')\r\n",
        "print(grid.score(X_val,y_val)) #test_score\r\n",
        "\r\n",
        "print('\\nPrecision, Recall, F1: ')\r\n",
        "print(precision_recall_fscore_support(y_val, grid.predict(X_val),average='macro'))"
      ],
      "execution_count": null,
      "outputs": []
    },
    {
      "cell_type": "code",
      "metadata": {
        "id": "1VVDfd5aw3nU"
      },
      "source": [
        "#GBoost\r\n",
        "from sklearn.ensemble import GradientBoostingClassifier\r\n",
        "print('start')\r\n",
        "from sklearn.svm import SVC\r\n",
        "param_grid = {'n_estimators': [300, 400, 500],\r\n",
        "              'criterion': ['friedman_mse', 'mse'],\r\n",
        "              'max_features': ['auto', 'sqrt', 'log2'],\r\n",
        "              'learning_rate': [0.001, 0.01, 0.1, 1.0, 10.0],\r\n",
        "              'loss': ['deviance', 'exponential']\r\n",
        "              'random_state': [0]\r\n",
        "           }\r\n",
        "\r\n",
        "grid = GridSearchCV(DecisionTreeClassifier(), param_grid, verbose = 1, refit=True) \r\n",
        "grid.fit(X_train, y_train)\r\n",
        "\r\n",
        "print('\\nBest Params: ')\r\n",
        "print(grid.cv_results_)\r\n",
        "\r\n",
        "print('\\nTraining Accuracy: ')\r\n",
        "print(grid.score(X_train,y_train)) #train score\r\n",
        "\r\n",
        "print('\\nTest Accuracy')\r\n",
        "print(grid.score(X_val,y_val)) #test_score\r\n",
        "\r\n",
        "print('\\nPrecision, Recall, F1: ')\r\n",
        "print(precision_recall_fscore_support(y_val, grid.predict(X_val),average='macro'))\r\n"
      ],
      "execution_count": null,
      "outputs": []
    }
  ]
}