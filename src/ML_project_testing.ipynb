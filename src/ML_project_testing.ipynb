{
 "cells": [
  {
   "cell_type": "code",
   "execution_count": 1,
   "metadata": {
    "id": "Fo6Ij8Q6LHD_"
   },
   "outputs": [],
   "source": [
    "from imblearn.over_sampling import SMOTE\n",
    "from sklearn.preprocessing import MinMaxScaler\n",
    "from sklearn.preprocessing import StandardScaler\n",
    "from sklearn.model_selection import train_test_split\n",
    "import seaborn as sns\n",
    "import matplotlib.pyplot as plt\n",
    "import matplotlib.pyplot as plt\n",
    "from mpl_toolkits.mplot3d import Axes3D\n",
    "from pandas_profiling import ProfileReport\n",
    "from sklearn.feature_selection import f_classif, SelectKBest\n",
    "from sklearn.preprocessing import StandardScaler\n",
    "from sklearn.decomposition import PCA\n",
    "from sklearn.metrics import f1_score, roc_auc_score, confusion_matrix\n",
    "from sklearn.linear_model import LogisticRegression\n",
    "from sklearn.metrics import precision_recall_fscore_support\n",
    "from sklearn.model_selection import GridSearchCV\n",
    "from sklearn.ensemble import RandomForestClassifier\n",
    "from sklearn import metrics\n",
    "from sklearn.model_selection import StratifiedKFold\n",
    "import pandas as pd\n",
    "import numpy as np\n",
    "import pickle"
   ]
  },
  {
   "cell_type": "code",
   "execution_count": 2,
   "metadata": {
    "id": "7Aire_r4Imz_"
   },
   "outputs": [],
   "source": [
    "'''\n",
    "This function generates the training and testing dataset to be used for training and testing purposes with various models respectively. \n",
    "'''\n",
    "\n",
    "\n",
    "def generate_train_test_data(split = 0.2, random_state = 42, scaling = 'standard', sampling = True, show_plots = True):\n",
    "\n",
    "\t'''\n",
    "\tThis method generates the training and test data. \n",
    "\tParameters :- split : Float, (0,1) - fraction of size of testing data to be used to test the model.\n",
    "\t\t\t\t  random_state : Integer - state of the randomization of the sampling data.\n",
    "\t\t\t\t  scaling : String, 'normal_negative', 'normal_positive', 'standard' - Type of scaling to be used, scaling data by \n",
    "\t\t\t\t  \t\t\t\t\t\t\t\t\t\t\t\t\t\t\t\t\t\t[-1,1], [0,1], Standard Normal respectively\n",
    "\t\t\t\t  sampling : Boolean - To generate synthetic data using training data with SMOTE\n",
    "\t\t\t\t  show_plots : Boolean - To show target variable distribution after each sampling method.\t\t\t\t\t\t\t\t\t\t\t\n",
    "\t'''\n",
    "\n",
    "\tdata = pd.read_csv('../extracted_datasets/raw.csv', index_col = [0])\n",
    "\n",
    "\tX = data[data.columns[0:100]]\n",
    "    \n",
    "\ty = data['y']\n",
    "    \n",
    "\tsns.countplot(y).set_title('Target Distribution in whole dataset')\n",
    "\tplt.show()\n",
    "    \n",
    "\tif sampling == True:\n",
    "\t\toversample = SMOTE()\n",
    "\t\tX, y = oversample.fit_resample(X, y)\n",
    "\n",
    "\tX_train, X_test, y_train, y_test = train_test_split(X, y, random_state = random_state, stratify = y, test_size = split)\n",
    "\n",
    "\n",
    "\tif scaling == 'normal_negative':\n",
    "\t\tscale = MinMaxScaler(feature_range = (-1,1))\n",
    "\n",
    "\telif scaling == 'normal_positive':\n",
    "\t\tscale = MinMaxScaler()\n",
    "\n",
    "\telif scaling == 'standard':\n",
    "\t\tscale = StandardScaler()\n",
    "\n",
    "# \tif sampling == False:\n",
    "\n",
    "\tX_train = scale.fit_transform(X_train)\n",
    "\tX_test = scale.transform(X_test)\n",
    "\n",
    "\tif show_plots == True:\n",
    "\t\tsns.countplot(x = y_train).set_title('Target Distribution in Training Dataset')\n",
    "\t\tplt.show()\n",
    "\t\tsns.countplot(x = y_test).set_title('Target Distribution in Test dataset')\n",
    "\t\tplt.show()\n",
    "\n",
    "\treturn X_train, X_test, y_train, y_test\n",
    "\n",
    "# \telse:\n",
    "\n",
    "# \t\tif show_plots == True:\n",
    "# \t\t\tsns.countplot(x = y_train).set_title('Target Distribution in Training Dataset without SMOTE')\n",
    "# \t\t\tplt.show()\n",
    "\n",
    "# \t\toversample = SMOTE()\n",
    "# \t\tX_train, y_train = oversample.fit_resample(X_train, y_train)\n",
    "\n",
    "# \t\tX_train = scale.fit_transform(X_train)\n",
    "# \t\tX_test = scale.transform(X_test)\n",
    "\n",
    "# \t\tif show_plots == True:\n",
    "# \t\t\tsns.countplot(x = y_train).set_title('Target Distribution in Training Dataset with SMOTE')\n",
    "# \t\t\tplt.show()\n",
    "# \t\t\tsns.countplot(x = y_test).set_title('Target Distribution in Test dataset')\n",
    "# \t\t\tplt.show()\n",
    "# \t\treturn X_train, X_test, y_train, y_test"
   ]
  },
  {
   "cell_type": "code",
   "execution_count": 3,
   "metadata": {
    "colab": {
     "base_uri": "https://localhost:8080/",
     "height": 382
    },
    "id": "27JJ_EGWIm0G",
    "outputId": "02cdf050-8aff-41bb-f98f-4c80d41537a2"
   },
   "outputs": [
    {
     "name": "stderr",
     "output_type": "stream",
     "text": [
      "/Library/Frameworks/Python.framework/Versions/3.6/lib/python3.6/site-packages/seaborn/_decorators.py:43: FutureWarning: Pass the following variable as a keyword arg: x. From version 0.12, the only valid positional argument will be `data`, and passing other arguments without an explicit keyword will result in an error or misinterpretation.\n",
      "  FutureWarning\n"
     ]
    },
    {
     "data": {
      "image/png": "[encoded data removed]",
      "text/plain": [
       "<Figure size 432x288 with 1 Axes>"
      ]
     },
     "metadata": {
      "needs_background": "light"
     },
     "output_type": "display_data"
    },
    {
     "data": {
      "image/png": "[encoded data removed]",
      "text/plain": [
       "<Figure size 432x288 with 1 Axes>"
      ]
     },
     "metadata": {
      "needs_background": "light"
     },
     "output_type": "display_data"
    },
    {
     "data": {
      "image/png": "[encoded data removed]",
      "text/plain": [
       "<Figure size 432x288 with 1 Axes>"
      ]
     },
     "metadata": {
      "needs_background": "light"
     },
     "output_type": "display_data"
    }
   ],
   "source": [
    "X_train, X_test, y_train, y_test = generate_train_test_data(split = 0.3,sampling = True)"
   ]
  },
  {
   "cell_type": "code",
   "execution_count": null,
   "metadata": {
    "id": "ob1ZQq8hPrpa"
   },
   "outputs": [],
   "source": [
    "# pickle.dump(X_train,open('X_train','wb'))\n",
    "# pickle.dump(y_train,open('y_train','wb'))\n",
    "# pickle.dump(X_test,open('X_test','wb'))\n",
    "# pickle.dump(y_test,open('y_test','wb'))"
   ]
  },
  {
   "cell_type": "code",
   "execution_count": null,
   "metadata": {
    "id": "cj8MZpMxQJpn"
   },
   "outputs": [],
   "source": [
    "# with open(\"X_train\", \"br\") as fh:\n",
    "#     X_train = pickle.load(fh)\n",
    "\n",
    "# with open(\"y_train\", \"br\") as fh:\n",
    "#     y_train = pickle.load(fh)\n",
    "\n",
    "# with open(\"X_test\", \"br\") as fh:\n",
    "#     X_test = pickle.load(fh)\n",
    "\n",
    "# with open(\"y_test\", \"br\") as fh:\n",
    "#     y_test = pickle.load(fh)\n",
    "\n"
   ]
  },
  {
   "cell_type": "code",
   "execution_count": 4,
   "metadata": {
    "id": "2URXwfwIUL9D"
   },
   "outputs": [],
   "source": [
    "sel = SelectKBest(f_classif, k=95)\n",
    "X_train = sel.fit_transform(X_train, y_train)\n",
    "X_test = sel.transform(X_test)\n",
    "\n",
    "pca = PCA(n_components=70)\n",
    "X_train = pca.fit_transform(X_train)\n",
    "X_test = pca.transform(X_test)"
   ]
  },
  {
   "cell_type": "code",
   "execution_count": 5,
   "metadata": {
    "id": "XIHuOwQryk0h"
   },
   "outputs": [],
   "source": [
    "pickle.dump(X_train,open(\"X_train_fs\",\"wb\"))\n",
    "pickle.dump(X_test,open(\"X_test_fs\",\"wb\"))\n",
    "pickle.dump(y_train, open(\"y_train\", \"wb\"))\n",
    "pickle.dump(y_test, open(\"y_test\", \"wb\"))"
   ]
  },
  {
   "cell_type": "code",
   "execution_count": null,
   "metadata": {
    "colab": {
     "base_uri": "https://localhost:8080/"
    },
    "id": "h-lo-uv4OG07",
    "outputId": "6bbefa2a-dd90-4258-e9b1-39ad7b7522a9"
   },
   "outputs": [],
   "source": [
    "X_train.shape"
   ]
  },
  {
   "cell_type": "code",
   "execution_count": 6,
   "metadata": {},
   "outputs": [],
   "source": [
    "with open(\"../Saved_Files/Train_Test_Data/X_train_fs\", \"br\") as fh:\n",
    "    X_train = pickle.load(fh)\n",
    "\n",
    "with open(\"../Saved_Files/Train_Test_Data/y_train\", \"br\") as fh:\n",
    "    y_train = pickle.load(fh)\n",
    "    \n",
    "with open(\"../Saved_Files/Train_Test_Data/X_test_fs\", \"br\") as fh:\n",
    "     X_test = pickle.load(fh)\n",
    "        \n",
    "with open(\"../Saved_Files/Train_Test_Data/y_test\", \"br\") as fh:\n",
    "    y_test = pickle.load(fh)"
   ]
  },
  {
   "cell_type": "markdown",
   "metadata": {
    "id": "cbIOA3EdIm0N"
   },
   "source": [
    "# Model Training\n"
   ]
  },
  {
   "cell_type": "code",
   "execution_count": 23,
   "metadata": {
    "colab": {
     "base_uri": "https://localhost:8080/"
    },
    "id": "Xsqps3xvIm0P",
    "outputId": "a6713ec2-518e-4918-dfcf-0fdb250044ad"
   },
   "outputs": [
    {
     "name": "stdout",
     "output_type": "stream",
     "text": [
      "Fitting 5 folds for each of 1 candidates, totalling 5 fits\n"
     ]
    },
    {
     "name": "stderr",
     "output_type": "stream",
     "text": [
      "[Parallel(n_jobs=1)]: Using backend SequentialBackend with 1 concurrent workers.\n"
     ]
    },
    {
     "name": "stdout",
     "output_type": "stream",
     "text": [
      "\n",
      "Best Params: \n",
      "{'C': 1, 'max_iter': 1000, 'penalty': 'l2', 'random_state': 0}\n",
      "\n",
      "Training Accuracy: \n",
      "0.867260671363448\n",
      "\n",
      "Test Accuracy\n",
      "0.7860990573095915\n",
      "\n",
      "Precision, Recall, F1: \n",
      "(0.6831683168316832, 0.8466257668711656, 0.7561643835616438, None)\n"
     ]
    },
    {
     "name": "stderr",
     "output_type": "stream",
     "text": [
      "[Parallel(n_jobs=1)]: Done   5 out of   5 | elapsed:    0.2s finished\n"
     ]
    }
   ],
   "source": [
    "#Logistic Regression\n",
    "param_grid = {'penalty': ['l2'],\n",
    "           'C': [1],\n",
    "           'max_iter': [1000],'random_state':[0]\n",
    "           }\n",
    "scoring = ['roc_auc', 'accuracy']\n",
    "grid = GridSearchCV(LogisticRegression(), param_grid, scoring = scoring, verbose  = 1,refit = 'roc_auc')  \n",
    "grid.fit(X_train, y_train)\n",
    "\n",
    "print('\\nBest Params: ')\n",
    "print(grid.best_params_)\n",
    "\n",
    "print('\\nTraining Accuracy: ')\n",
    "print(grid.score(X_train,y_train)) #train score\n",
    "\n",
    "print('\\nTest Accuracy')\n",
    "print(grid.score(X_test,y_test)) #test_score\n",
    "\n",
    "print('\\nPrecision, Recall, F1: ')\n",
    "print(precision_recall_fscore_support(y_test, grid.predict(X_test),average='binary'))\n",
    "lr = grid.best_estimator_\n",
    "filename = 'finalized_lr.sav'\n",
    "pickle.dump(lr, open(filename, 'wb'))"
   ]
  },
  {
   "cell_type": "code",
   "execution_count": null,
   "metadata": {
    "colab": {
     "base_uri": "https://localhost:8080/"
    },
    "id": "HeU7LfKPp2qF",
    "outputId": "e731905b-ce80-4659-b55e-bdbcc5b6471b"
   },
   "outputs": [],
   "source": [
    "grid.best_params_"
   ]
  },
  {
   "cell_type": "code",
   "execution_count": null,
   "metadata": {
    "id": "j--OYKCIq9It"
   },
   "outputs": [],
   "source": [
    "lr = LogisticRegression()"
   ]
  },
  {
   "cell_type": "code",
   "execution_count": null,
   "metadata": {
    "colab": {
     "base_uri": "https://localhost:8080/",
     "height": 633
    },
    "id": "tQGd0dlbIm0P",
    "outputId": "d64374d5-e02e-48a6-ffc1-577c6484c7ca",
    "scrolled": false
   },
   "outputs": [],
   "source": [
    "y_pred_lr = grid.predict(X_val)\n",
    "from sklearn.metrics import confusion_matrix,classification_report,roc_curve,roc_auc_score\n",
    "\n",
    "cm = confusion_matrix(y_val, y_pred_lr)\n",
    "\n",
    "fig, ax = plt.subplots(figsize=(8, 8))\n",
    "ax.imshow(cm, cmap='Blues')\n",
    "ax.grid(False)\n",
    "ax.xaxis.set(ticks=(0, 1), ticklabels=('Predicted 0s', 'Predicted 1s'))\n",
    "ax.yaxis.set(ticks=(0, 1), ticklabels=('Actual 0s', 'Actual 1s'))\n",
    "ax.set_ylim(1.5, -0.5)\n",
    "for i in range(2):\n",
    "    for j in range(2):\n",
    "        ax.text(j, i, cm[i, j], ha='center', va='center',fontsize = 50, color='red')\n",
    "plt.show()\n",
    "\n",
    "print(classification_report(y_val, y_pred_lr))\n",
    "\n"
   ]
  },
  {
   "cell_type": "code",
   "execution_count": null,
   "metadata": {
    "colab": {
     "base_uri": "https://localhost:8080/",
     "height": 265
    },
    "id": "lx2fSeOAr59C",
    "outputId": "f67a35f1-25c0-43d5-b238-45d1a0c879b9"
   },
   "outputs": [],
   "source": [
    "y_pred_proba = grid.predict_proba(X_val)[::,1]\n",
    "fpr, tpr, _ = roc_curve(y_val,  y_pred_proba)\n",
    "auc = metrics.roc_auc_score(y_val, y_pred_proba)\n",
    "plt.plot(fpr,tpr,label=\"1, auc=\"+str(auc))\n",
    "plt.legend(loc=4)\n",
    "plt.show()"
   ]
  },
  {
   "cell_type": "code",
   "execution_count": 26,
   "metadata": {
    "colab": {
     "base_uri": "https://localhost:8080/"
    },
    "id": "DPZfn8szIm0R",
    "outputId": "c6d85d8d-b6dc-4380-b40b-224caa4d36de"
   },
   "outputs": [
    {
     "name": "stdout",
     "output_type": "stream",
     "text": [
      "start\n",
      "Fitting 5 folds for each of 1 candidates, totalling 5 fits\n"
     ]
    },
    {
     "name": "stderr",
     "output_type": "stream",
     "text": [
      "[Parallel(n_jobs=1)]: Using backend SequentialBackend with 1 concurrent workers.\n",
      "[Parallel(n_jobs=1)]: Done   5 out of   5 | elapsed:    5.7s finished\n"
     ]
    },
    {
     "name": "stdout",
     "output_type": "stream",
     "text": [
      "\n",
      "Best Params: \n",
      "{'criterion': 'gini', 'max_depth': 19, 'max_features': 'auto', 'min_samples_split': 2, 'n_estimators': 360, 'random_state': 0}\n",
      "\n",
      "Training Accuracy: \n",
      "0.9999999999999999\n",
      "\n",
      "Test Accuracy\n",
      "0.939473290438426\n",
      "\n",
      "Precision, Recall, F1: \n",
      "(0.8333333333333334, 0.8895705521472392, 0.8605341246290802, None)\n"
     ]
    }
   ],
   "source": [
    "#Random Forest Tree\n",
    "from sklearn.ensemble import RandomForestClassifier\n",
    "\n",
    "print('start')\n",
    "param_grid = {'n_estimators': [360],\n",
    "           'criterion': ['gini'],\n",
    "              'max_depth': [19],\n",
    "              'min_samples_split': [2],\n",
    "              'max_features': ['auto'],\n",
    "              'random_state':[0]\n",
    "            \n",
    "           }\n",
    "scoring = ['accuracy', 'roc_auc']\n",
    "grid = GridSearchCV(RandomForestClassifier(), param_grid, verbose = 1, scoring = scoring, refit='roc_auc') \n",
    "grid.fit(X_train, y_train)\n",
    "\n",
    "print('\\nBest Params: ')\n",
    "print(grid.best_params_)\n",
    "\n",
    "print('\\nTraining Accuracy: ')\n",
    "print(grid.score(X_train,y_train)) #train score\n",
    "\n",
    "print('\\nTest Accuracy')\n",
    "print(grid.score(X_test,y_test)) #test_score\n",
    "\n",
    "print('\\nPrecision, Recall, F1: ')\n",
    "print(precision_recall_fscore_support(y_test, grid.predict(X_test),average='binary'))\n",
    "random_forrest = grid.best_estimator_\n",
    "filename = 'finalized_rf.sav'\n",
    "pickle.dump(random_forrest, open(filename, 'wb'))"
   ]
  },
  {
   "cell_type": "code",
   "execution_count": null,
   "metadata": {
    "colab": {
     "base_uri": "https://localhost:8080/"
    },
    "id": "5hnwDsDYJh-g",
    "outputId": "298719ff-8c70-4b0b-81dc-d5747b524c81"
   },
   "outputs": [],
   "source": [
    "grid.best_params_"
   ]
  },
  {
   "cell_type": "code",
   "execution_count": 39,
   "metadata": {
    "id": "L-2EO_kmwAiF"
   },
   "outputs": [
    {
     "name": "stdout",
     "output_type": "stream",
     "text": [
      "start\n",
      "Fitting 5 folds for each of 1 candidates, totalling 5 fits\n"
     ]
    },
    {
     "name": "stderr",
     "output_type": "stream",
     "text": [
      "[Parallel(n_jobs=1)]: Using backend SequentialBackend with 1 concurrent workers.\n",
      "[Parallel(n_jobs=1)]: Done   5 out of   5 | elapsed:    0.9s finished\n"
     ]
    },
    {
     "name": "stdout",
     "output_type": "stream",
     "text": [
      "\n",
      "Best Params: \n",
      "{'C': 1, 'gamma': 1, 'kernel': 'rbf', 'probability': True}\n",
      "\n",
      "Training Accuracy: \n",
      "0.9997651609338306\n",
      "\n",
      "Test Accuracy\n",
      "0.937490647912614\n",
      "\n",
      "Precision, Recall, F1: \n",
      "(0.8679245283018868, 0.8466257668711656, 0.8571428571428571, None)\n"
     ]
    }
   ],
   "source": [
    "#SVM\n",
    "print('start')\n",
    "from sklearn.svm import SVC\n",
    "param_grid = {'C': [1],  \n",
    "              'gamma': [1], \n",
    "              'kernel': ['rbf'],\n",
    "              'probability' : [True]\n",
    "           }\n",
    "scoring = ['roc_auc', 'accuracy']\n",
    "grid = GridSearchCV(SVC(), param_grid, scoring = scoring, verbose = 1, refit='roc_auc') \n",
    "grid.fit(X_train, y_train)\n",
    "\n",
    "print('\\nBest Params: ')\n",
    "print(grid.best_params_)\n",
    "\n",
    "print('\\nTraining Accuracy: ')\n",
    "print(grid.score(X_train,y_train)) #train score\n",
    "\n",
    "print('\\nTest Accuracy')\n",
    "print(grid.score(X_test,y_test)) #test_score\n",
    "\n",
    "print('\\nPrecision, Recall, F1: ')\n",
    "print(precision_recall_fscore_support(y_test, grid.predict(X_test),average='binary'))\n",
    "support_vector = grid.best_estimator_\n",
    "filename = 'finalized_svm.sav'\n",
    "pickle.dump(support_vector, open(filename, 'wb'))"
   ]
  },
  {
   "cell_type": "code",
   "execution_count": 38,
   "metadata": {
    "id": "8cjM_OPiwaJf"
   },
   "outputs": [
    {
     "name": "stdout",
     "output_type": "stream",
     "text": [
      "start\n",
      "Fitting 5 folds for each of 1 candidates, totalling 5 fits\n"
     ]
    },
    {
     "name": "stderr",
     "output_type": "stream",
     "text": [
      "[Parallel(n_jobs=1)]: Using backend SequentialBackend with 1 concurrent workers.\n"
     ]
    },
    {
     "name": "stdout",
     "output_type": "stream",
     "text": [
      "\n",
      "Best Params: \n",
      "{'mean_fit_time': array([0.05781841]), 'std_fit_time': array([0.00524488]), 'mean_score_time': array([0.00561895]), 'std_score_time': array([0.00119897]), 'param_algorithm': masked_array(data=['SAMME.R'],\n",
      "             mask=[False],\n",
      "       fill_value='?',\n",
      "            dtype=object), 'param_learning_rate': masked_array(data=[0.001],\n",
      "             mask=[False],\n",
      "       fill_value='?',\n",
      "            dtype=object), 'param_n_estimators': masked_array(data=[10],\n",
      "             mask=[False],\n",
      "       fill_value='?',\n",
      "            dtype=object), 'param_random_state': masked_array(data=[0],\n",
      "             mask=[False],\n",
      "       fill_value='?',\n",
      "            dtype=object), 'params': [{'algorithm': 'SAMME.R', 'learning_rate': 0.001, 'n_estimators': 10, 'random_state': 0}], 'split0_test_roc_auc': array([0.67797334]), 'split1_test_roc_auc': array([0.59210526]), 'split2_test_roc_auc': array([0.59868421]), 'split3_test_roc_auc': array([0.61842105]), 'split4_test_roc_auc': array([0.58552632]), 'mean_test_roc_auc': array([0.61454204]), 'std_test_roc_auc': array([0.03357192]), 'rank_test_roc_auc': array([1], dtype=int32), 'split0_test_accuracy': array([0.67973856]), 'split1_test_accuracy': array([0.59210526]), 'split2_test_accuracy': array([0.59868421]), 'split3_test_accuracy': array([0.61842105]), 'split4_test_accuracy': array([0.58552632]), 'mean_test_accuracy': array([0.61489508]), 'std_test_accuracy': array([0.03423975]), 'rank_test_accuracy': array([1], dtype=int32)}\n",
      "\n",
      "Training Accuracy: \n",
      "0.6329879817654372\n",
      "\n",
      "Test Accuracy\n",
      "0.6156105042645519\n",
      "\n",
      "Precision, Recall, F1: \n",
      "(0.5703422053231939, 0.9202453987730062, 0.7042253521126761, None)\n"
     ]
    },
    {
     "name": "stderr",
     "output_type": "stream",
     "text": [
      "[Parallel(n_jobs=1)]: Done   5 out of   5 | elapsed:    0.3s finished\n"
     ]
    }
   ],
   "source": [
    "#ADABOOST\n",
    "print('start')\n",
    "from sklearn.ensemble import AdaBoostClassifier\n",
    "param_grid = {\n",
    "              'algorithm' : ['SAMME.R'],\n",
    "              'learning_rate' : [0.001],\n",
    "              'n_estimators' : [10],\n",
    "              'random_state' : [0]\n",
    "           }\n",
    "scoring = ['roc_auc', 'accuracy']\n",
    "grid = GridSearchCV(AdaBoostClassifier(), param_grid, verbose = 1, refit='roc_auc', scoring = scoring) \n",
    "grid.fit(X_train, y_train)\n",
    "\n",
    "print('\\nBest Params: ')\n",
    "print(grid.cv_results_)\n",
    "\n",
    "print('\\nTraining Accuracy: ')\n",
    "print(grid.score(X_train,y_train)) #train score\n",
    "\n",
    "print('\\nTest Accuracy')\n",
    "print(grid.score(X_test,y_test)) #test_score\n",
    "\n",
    "print('\\nPrecision, Recall, F1: ')\n",
    "print(precision_recall_fscore_support(y_test, grid.predict(X_test),average='binary'))\n",
    "adaboost = grid.best_estimator_\n",
    "filename = 'finalized_adaboost.sav'\n",
    "pickle.dump(adaboost, open(filename, 'wb'))"
   ]
  },
  {
   "cell_type": "code",
   "execution_count": 29,
   "metadata": {
    "id": "1VVDfd5aw3nU"
   },
   "outputs": [
    {
     "name": "stdout",
     "output_type": "stream",
     "text": [
      "start\n",
      "Fitting 5 folds for each of 1 candidates, totalling 5 fits\n"
     ]
    },
    {
     "name": "stderr",
     "output_type": "stream",
     "text": [
      "[Parallel(n_jobs=1)]: Using backend SequentialBackend with 1 concurrent workers.\n",
      "[Parallel(n_jobs=1)]: Done   5 out of   5 | elapsed:   13.4s finished\n"
     ]
    },
    {
     "name": "stdout",
     "output_type": "stream",
     "text": [
      "\n",
      "Best Params: \n",
      "{'mean_fit_time': array([2.68601165]), 'std_fit_time': array([0.06906499]), 'mean_score_time': array([0.00265989]), 'std_score_time': array([0.00010584]), 'param_criterion': masked_array(data=['friedman_mse'],\n",
      "             mask=[False],\n",
      "       fill_value='?',\n",
      "            dtype=object), 'param_learning_rate': masked_array(data=[0.001],\n",
      "             mask=[False],\n",
      "       fill_value='?',\n",
      "            dtype=object), 'param_loss': masked_array(data=['deviance'],\n",
      "             mask=[False],\n",
      "       fill_value='?',\n",
      "            dtype=object), 'param_max_features': masked_array(data=['auto'],\n",
      "             mask=[False],\n",
      "       fill_value='?',\n",
      "            dtype=object), 'param_n_estimators': masked_array(data=[300],\n",
      "             mask=[False],\n",
      "       fill_value='?',\n",
      "            dtype=object), 'param_random_state': masked_array(data=[0],\n",
      "             mask=[False],\n",
      "       fill_value='?',\n",
      "            dtype=object), 'params': [{'criterion': 'friedman_mse', 'learning_rate': 0.001, 'loss': 'deviance', 'max_features': 'auto', 'n_estimators': 300, 'random_state': 0}], 'split0_test_roc_auc': array([0.88448394]), 'split1_test_roc_auc': array([0.74844183]), 'split2_test_roc_auc': array([0.78280817]), 'split3_test_roc_auc': array([0.76973684]), 'split4_test_roc_auc': array([0.81284626]), 'mean_test_roc_auc': array([0.79966341]), 'std_test_roc_auc': array([0.04726872]), 'rank_test_roc_auc': array([1], dtype=int32), 'split0_test_accuracy': array([0.80392157]), 'split1_test_accuracy': array([0.68421053]), 'split2_test_accuracy': array([0.71052632]), 'split3_test_accuracy': array([0.71710526]), 'split4_test_accuracy': array([0.76973684]), 'mean_test_accuracy': array([0.7371001]), 'std_test_accuracy': array([0.04343623]), 'rank_test_accuracy': array([1], dtype=int32)}\n",
      "\n",
      "Training Accuracy: \n",
      "0.8936317170879956\n",
      "\n",
      "Test Accuracy\n",
      "0.8231707317073171\n",
      "\n",
      "Precision, Recall, F1: \n",
      "(0.7239583333333334, 0.852760736196319, 0.7830985915492957, None)\n"
     ]
    }
   ],
   "source": [
    "#GBoost\n",
    "from sklearn.ensemble import GradientBoostingClassifier\n",
    "print('start')\n",
    "from sklearn.svm import SVC\n",
    "param_grid = {'n_estimators': [300],\n",
    "              'criterion': ['friedman_mse'],\n",
    "              'max_features': ['auto'],\n",
    "              'learning_rate': [0.001],\n",
    "              'loss': ['deviance'],\n",
    "              'random_state': [0]\n",
    "           }\n",
    "scoring = ['roc_auc', 'accuracy']\n",
    "grid = GridSearchCV(GradientBoostingClassifier(), param_grid, verbose = 1, scoring = scoring, refit='roc_auc') \n",
    "grid.fit(X_train, y_train)\n",
    "\n",
    "print('\\nBest Params: ')\n",
    "print(grid.cv_results_)\n",
    "\n",
    "print('\\nTraining Accuracy: ')\n",
    "print(grid.score(X_train,y_train)) #train score\n",
    "\n",
    "print('\\nTest Accuracy')\n",
    "print(grid.score(X_test,y_test)) #test_score\n",
    "\n",
    "print('\\nPrecision, Recall, F1: ')\n",
    "print(precision_recall_fscore_support(y_test, grid.predict(X_test),average='binary'))\n",
    "gbboost = grid.best_estimator_\n",
    "filename = 'finalized_gbboost.sav'\n",
    "pickle.dump(gbboost, open(filename, 'wb'))"
   ]
  },
  {
   "cell_type": "code",
   "execution_count": 22,
   "metadata": {
    "scrolled": true
   },
   "outputs": [
    {
     "name": "stdout",
     "output_type": "stream",
     "text": [
      "start\n",
      "Fitting 5 folds for each of 1 candidates, totalling 5 fits\n"
     ]
    },
    {
     "name": "stderr",
     "output_type": "stream",
     "text": [
      "[Parallel(n_jobs=1)]: Using backend SequentialBackend with 1 concurrent workers.\n",
      "[Parallel(n_jobs=1)]: Done   5 out of   5 | elapsed:    5.1s finished\n"
     ]
    },
    {
     "name": "stdout",
     "output_type": "stream",
     "text": [
      "\n",
      "Best Params: \n",
      "{'alpha': 0.0001, 'batch_size': 32, 'hidden_layer_sizes': 64, 'learning_rate': 'constant', 'learning_rate_init': 0.01, 'max_iter': 1000, 'random_state': 0}\n",
      "\n",
      "Training Accuracy: \n",
      "1.0\n",
      "\n",
      "Test Accuracy\n",
      "0.9189735148885231\n",
      "\n",
      "Precision, Recall, F1: \n",
      "(0.8118279569892473, 0.9263803680981595, 0.8653295128939827, None)\n"
     ]
    }
   ],
   "source": [
    "from sklearn.neural_network import MLPClassifier\n",
    "from sklearn.datasets import make_classification\n",
    "\n",
    "print('start')\n",
    "from sklearn.svm import SVC\n",
    "param_grid = {'hidden_layer_sizes': [(64)],\n",
    "              'batch_size': [32],\n",
    "              'learning_rate_init': [0.01],\n",
    "              'learning_rate': ['constant'],\n",
    "              'max_iter' : [1000],\n",
    "              'alpha' : [0.0001],\n",
    "              'random_state': [0]\n",
    "           }\n",
    "scoring = ['roc_auc', 'accuracy']\n",
    "grid = GridSearchCV(MLPClassifier(), param_grid, scoring = scoring, verbose = 1, refit = \"roc_auc\") \n",
    "grid.fit(X_train, y_train)\n",
    "\n",
    "print('\\nBest Params: ')\n",
    "print(grid.best_params_)\n",
    "\n",
    "print('\\nTraining Accuracy: ')\n",
    "print(grid.score(X_train,y_train)) #train score\n",
    "\n",
    "print('\\nTest Accuracy')\n",
    "print(grid.score(X_test,y_test)) #test_score\n",
    "\n",
    "print('\\nPrecision, Recall, F1: ')\n",
    "print(precision_recall_fscore_support(y_test, grid.predict(X_test),average='binary'))\n",
    "mlp = grid.best_estimator_\n",
    "filename = 'finalized_mlp.sav'\n",
    "pickle.dump(mlp, open(filename, 'wb'))"
   ]
  }
 ],
 "metadata": {
  "colab": {
   "collapsed_sections": [],
   "name": "ML_project_testing.ipynb",
   "provenance": []
  },
  "kernelspec": {
   "display_name": "Python 3",
   "language": "python",
   "name": "python3"
  },
  "language_info": {
   "codemirror_mode": {
    "name": "ipython",
    "version": 3
   },
   "file_extension": ".py",
   "mimetype": "text/x-python",
   "name": "python",
   "nbconvert_exporter": "python",
   "pygments_lexer": "ipython3",
   "version": "3.6.8"
  }
 },
 "nbformat": 4,
 "nbformat_minor": 1
}
